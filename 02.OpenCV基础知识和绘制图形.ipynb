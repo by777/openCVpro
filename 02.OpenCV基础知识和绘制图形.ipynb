{
 "cells": [
  {
   "cell_type": "code",
   "execution_count": 1,
   "metadata": {
    "collapsed": true
   },
   "outputs": [],
   "source": [
    "import cv2"
   ]
  },
  {
   "cell_type": "markdown",
   "source": [
    "> OpenCV默认使用的是BGR. BGR和RGB色彩空间的区别在于图片在色彩通道上的排列顺序不同.\n"
   ],
   "metadata": {
    "collapsed": false
   }
  },
  {
   "cell_type": "markdown",
   "source": [
    "### HSV, HSL和YUV\n",
    "[链接](https://cloud.fynote.com/share/d/AP5zpeKD#2-1-2-2-HSL_15)"
   ],
   "metadata": {
    "collapsed": false
   }
  },
  {
   "cell_type": "markdown",
   "source": [
    "#### HSV（HSB）\n",
    "+ OpenCV用的最多的色彩空间是HSV.\n",
    "+ Hue: 色相, 即色彩, 如红色, 蓝色. 用角度度量，取值范围为0°～360°，从红色开始按逆时针方向计算，红色为0°，绿色为120°,蓝色为240°(圆盘，一格一格) R -> G -> B\n",
    "+ Saturation: 饱和度, 表示颜色接近光谱色的程度。**一种颜色，可以看成是某种光谱色与白色混合的结果**。其中光谱色所占的比例愈大，颜色接近光谱色的程度就愈高，颜色的饱和度也就愈高。饱和度高，颜色则深而艳。光谱色的白光成分为0，饱和度达到最高。通常取值范围为0%～100%，值越大，颜色越饱和（越深，越艳丽）。\n",
    "+ Value: 明度. 明度表示颜色明亮的程度，对于光源色，明度值与发光体的光亮度有关；对于物体色，此值和物体的透射比或反射比有关。通常取值范围为0%（黑）到100%（白）。最下面是黑色\n",
    "\n",
    "为什么要使用HSV?\n",
    "\n",
    "方便OpenCV做图像处理，比如根据hue的值（色相）就可以判断背景颜色."
   ],
   "metadata": {
    "collapsed": false
   }
  },
  {
   "cell_type": "markdown",
   "source": [
    "![hsv](hsv.png)\n",
    "![hue](hue.png)"
   ],
   "metadata": {
    "collapsed": false
   }
  },
  {
   "cell_type": "markdown",
   "source": [
    "\n",
    "#### HSL\n",
    "![HSL和HSV](HSL和HSV.png)\n",
    "HSL和HSV差不多.HSL在顶部是纯白的, 不管是什么颜色."
   ],
   "metadata": {
    "collapsed": false
   },
   "outputs": []
  },
  {
   "cell_type": "markdown",
   "source": [
    "\n",
    "Hue: 色相,是一样的\n",
    "Saturation: 饱和度，注意不等于HSV的饱和度\n",
    "Lightness: 亮度\n",
    "![HSL和HSV的区别](HSL和HSV的区别.png)"
   ],
   "metadata": {
    "collapsed": false
   }
  },
  {
   "cell_type": "markdown",
   "source": [
    "#### YUV（比如黑白电视只有Y）\n",
    "YUV，是一种颜色编码方法。常使用在各个视频处理组件中。 YUV在对照片或视频编码时，考虑到人类的感知能力，允许降低色度的带宽。\n",
    "\n",
    "“Y”表示明亮度（Luminance或Luma），也就是灰阶值，“U”和“V”表示的则是色度（Chrominance或Chroma），作用是描述影像色彩及饱和度，用于指定像素的颜色。\n",
    "\n",
    "YUV的发明是由于彩色电视与黑白电视的过渡时期。\n",
    "\n",
    "YUV最大的优点在于只需占用极少的带宽。\n",
    "\n",
    "4:4:4表示完全取样。\n",
    "4:2:2表示2:1的水平取样，垂直完全采样。Y取4个，U和V只取2个\n",
    "4:2:0表示2:1的水平取样，垂直2：1采样。\n",
    "4:1:1表示4:1的水平取样，垂直完全采样。"
   ],
   "metadata": {
    "collapsed": false
   }
  },
  {
   "cell_type": "markdown",
   "source": [
    "### 色彩空间的转换\n",
    "+ cvtColor(img, colorspace): 颜色转换的关键API"
   ],
   "metadata": {
    "collapsed": false
   }
  },
  {
   "cell_type": "code",
   "execution_count": 2,
   "outputs": [],
   "source": [
    "def callback(value):\n",
    "    pass\n",
    "\n",
    "cv2.namedWindow('color', cv2.WINDOW_NORMAL)\n",
    "\n",
    "img = cv2.imread('cat.jpeg')\n",
    "\n",
    "# 常见的颜色空间转换\n",
    "colorspaces = [cv2.COLOR_BGR2RGBA,\n",
    "               cv2.COLOR_BGR2BGRA,\n",
    "               cv2.COLOR_BGR2GRAY,\n",
    "               cv2.COLOR_BGR2HSV,\n",
    "               cv2.COLOR_BGR2YUV]\n",
    "#  createTrackbar(trackbarname, winname, value, count, onChange) 创建TrackBar控件, value为trackbar的默认值, count为bar的最大值, 最小为0\n",
    "cv2.createTrackbar('trackbar', 'color', 0, 4, callback)\n",
    "while True:\n",
    "    # getTrackbarPos(trackbarname, winname) 获取TrackBar当前值\n",
    "    index = cv2.getTrackbarPos('trackbar', 'color')\n",
    "\n",
    "    #颜色空间转换API\n",
    "    cvt_img = cv2.cvtColor(img, colorspaces[index])\n",
    "\n",
    "    cv2.imshow('color', cvt_img)\n",
    "    key = cv2.waitKey(10)\n",
    "    if key & 0xFF == ord('q'):\n",
    "        break\n",
    "\n",
    "cv2.destroyAllWindows()"
   ],
   "metadata": {
    "collapsed": false
   }
  },
  {
   "cell_type": "markdown",
   "source": [
    "### 重要数据结构Mat\n",
    "C++的数据结构 -> numpy ndarray\n",
    "在python中Mat数据对应numpy的ndarray, 使用numpy提供的深浅拷贝方法即可实现Mat的拷贝"
   ],
   "metadata": {
    "collapsed": false
   }
  },
  {
   "cell_type": "code",
   "execution_count": 3,
   "outputs": [
    {
     "name": "stdout",
     "output_type": "stream",
     "text": [
      "(480, 640, 3)\n",
      "921600\n",
      "uint8\n"
     ]
    }
   ],
   "source": [
    "import cv2\n",
    "import numpy as np\n",
    "\n",
    "img = cv2.imread('cat.jpeg')\n",
    "# 浅拷贝\n",
    "img2 = img.view()\n",
    "\n",
    "# 深拷贝\n",
    "img3 = img.copy()\n",
    "\n",
    "img[10:100, 10:100] = [0, 0, 255]\n",
    "# cv2.imshow('img', img)\n",
    "# cv2.imshow('img2', img2)\n",
    "# cv2.imshow('img3', img3)\n",
    "cv2.imshow('imgs', np.hstack((img, img2, img3)))\n",
    "cv2.waitKey(0)\n",
    "cv2.destroyAllWindows()\n",
    "\n",
    "#shape属性中包括了三个信息\n",
    "# #高度，长度 和 通道数\n",
    "print(img.shape)\n",
    "#图像占用多大空间 #高度 * 长度 * 通道数\n",
    "print(img.size)\n",
    "#图像中每个元素的位深\n",
    "print(img.dtype)"
   ],
   "metadata": {
    "collapsed": false
   }
  },
  {
   "cell_type": "markdown",
   "source": [
    "### 通道的分离与合并\n",
    "+ split(mat)分割图像的通道\n",
    "+ merge((ch1, ch2, ch3)) 融合多个通道"
   ],
   "metadata": {
    "collapsed": false
   }
  },
  {
   "cell_type": "code",
   "execution_count": 10,
   "outputs": [],
   "source": [
    "img = np.zeros((480, 640, 3), np.uint8) # 高度与宽度\n",
    "\n",
    "b, g, r = cv2.split(img)\n",
    "\n",
    "b[10:100, 10:100] = 255\n",
    "g[10:100, 10: 100] = 255\n",
    "\n",
    "img2 = cv2.merge((b,g,r))\n",
    "cv2.imshow('b&g', np.vstack((b,g,r)))\n",
    "cv2.imshow('img2', np.hstack((img,img2)))\n",
    "cv2.waitKey(0)\n",
    "cv2.destroyAllWindows()"
   ],
   "metadata": {
    "collapsed": false
   }
  },
  {
   "cell_type": "markdown",
   "source": [
    "### 绘制图形\n",
    "\n",
    "+ 利用OpenCV提供的绘制图形API可以轻松在图像上绘制各种图形, 比如直线, 矩形, 圆, 椭圆等图形.\n",
    "\n",
    "+ line(img, pt1, pt2, color, thickness, lineType, shift) 画直线\n",
    "\n",
    "    + img: 在哪个图像上画线\n",
    "    + pt1, pt2: 开始点, 结束点. 指定线的开始与结束位置\n",
    "    + color: 颜色\n",
    "    + thickness: 线宽\n",
    "    + lineType: 线型.线型为-1, 4, 8, 16, 默认为8\n",
    "    + shift: 坐标缩放比例.\n",
    "+ rectangle() 参数同上 画矩形\n",
    "\n",
    "+ circle(img, center, radius, color[, thickness[, lineType[, shift]]]) 中括号内参数表示可选参数. 画圆\n",
    "\n",
    "+ ellipse(img, 中心点, 长宽的一半, 角度, 从哪个角度开始, 从哪个角度结束,...)\n",
    "\n",
    "+ polylines(img, pts, isClosed, color[, thickness[, lineType[, shift]]]) 画多边形\n",
    "+ fillPoly 填充多边形\n",
    "+ putText(img, text, org, fontFace, fontScale, color[, thickness[, lineType[, bottomLeftOrigin]]]) 绘制文本\n",
    "    + text 要绘制的文本\n",
    "    + org 文本在图片中的左下角坐标\n",
    "    + fontFace 字体类型即字体\n",
    "    + fontScale 字体大小"
   ],
   "metadata": {
    "collapsed": false
   }
  },
  {
   "cell_type": "code",
   "execution_count": null,
   "outputs": [],
   "source": [
    "import cv2\n",
    "import numpy as np\n",
    "# 纯黑的背景图\n",
    "img = np.zeros((640, 800, 3), np.uint8)\n",
    "\n",
    "# 图片，起始点，结束点，颜色，线条宽度，线条类型（0，4，8，16，越大锯齿越不明显），坐标缩放比例\n",
    "cv2.line(img, (10, 20), (300, 400), (0, 0, 255), 5, 4)\n",
    "cv2.line(img, (300, 400), (500, 480), (0, 255, 0), 1, 16)\n",
    "\n",
    "# 画矩形\n",
    "# pts：对角上的两个点，thickness=-1，填充\n",
    "cv2.rectangle(img, (10,10), (100, 100), (0, 0, 255), 0)\n",
    "\n",
    "# 画圆\n",
    "# 图像，圆心，半径\n",
    "cv2.circle(img, (320, 240), 100, (0, 0, 255))\n",
    "cv2.circle(img, (500, 240), 50, (0, 0, 255), 16, -1)\n",
    "\n",
    "# 画椭圆\n",
    "# img, 中心点, 长宽的一半, 角度, 【从哪个角度开始, 从哪个角度结束】,...\n",
    "# axes-> axis的复数\n",
    "cv2.ellipse(img, (320, 240), (100, 50), 90, 0, 270, (255, 0, 255), -1)\n",
    "\n",
    "#画多边形\n",
    "# img, pts, isClosed是否闭合, color[, thickness[, lineType[, shift]]]\n",
    "# 多边形的每个点\n",
    "pts = np.array([(250, 100), (150, 300), (50, 280)], np.int32)\n",
    "cv2.polylines(img, [pts], False, (0, 255, 255),16)\n",
    "\n",
    "#填充多边形\n",
    "cv2.fillPoly(img, [np.array([(450, 200), (250, 400), (10, 280)])], (255, 255, 0))\n",
    "# text 要绘制的文本  org 文本在图片中的左下角坐标    + fontFace 字体类型即字体    + fontScale 字体大小\n",
    "cv2.putText(img, \"Hello OpenCV!\", (20, 550), cv2.FONT_HERSHEY_TRIPLEX, 3, (255,0,0))\n",
    "cv2.imshow('draw', img)\n",
    "cv2.waitKey(0)\n",
    "cv2.destroyAllWindows()\n"
   ],
   "metadata": {
    "collapsed": false
   }
  },
  {
   "cell_type": "code",
   "execution_count": 72,
   "outputs": [],
   "source": [
    "### 修复中文乱码\n",
    "from PIL import ImageFont, ImageDraw, Image\n",
    "img = np.full((200,200,3),fill_value=255, dtype=np.uint8)\n",
    "# C:\\Windows\\Fonts复制字体文件，字体大小45\n",
    "font = ImageFont.truetype('msyh.ttc', 15)\n",
    "img_pil = Image.fromarray(img)\n",
    "draw = ImageDraw.Draw(img_pil)\n",
    "draw.text((10,150), '你好，OpenCV', font=font, fill=(0, 255,0,0))\n",
    "img = np.array(img_pil)\n",
    "cv2.imshow('Hello', img)\n",
    "cv2.waitKey(0)\n",
    "cv2.destroyAllWindows()"
   ],
   "metadata": {
    "collapsed": false
   }
  },
  {
   "cell_type": "markdown",
   "source": [
    "\n"
   ],
   "metadata": {
    "collapsed": false
   }
  },
  {
   "cell_type": "code",
   "execution_count": 61,
   "outputs": [],
   "source": [],
   "metadata": {
    "collapsed": false
   }
  }
 ],
 "metadata": {
  "kernelspec": {
   "display_name": "Python 3",
   "language": "python",
   "name": "python3"
  },
  "language_info": {
   "codemirror_mode": {
    "name": "ipython",
    "version": 2
   },
   "file_extension": ".py",
   "mimetype": "text/x-python",
   "name": "python",
   "nbconvert_exporter": "python",
   "pygments_lexer": "ipython2",
   "version": "2.7.6"
  }
 },
 "nbformat": 4,
 "nbformat_minor": 0
}
