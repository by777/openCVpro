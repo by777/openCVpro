{
 "cells": [
  {
   "cell_type": "code",
   "execution_count": 1,
   "metadata": {
    "collapsed": true
   },
   "outputs": [],
   "source": [
    "import cv2\n",
    "import numpy as np"
   ]
  },
  {
   "cell_type": "markdown",
   "source": [
    "### 图片加法\n"
   ],
   "metadata": {
    "collapsed": false
   }
  },
  {
   "cell_type": "code",
   "execution_count": 14,
   "outputs": [
    {
     "name": "stdout",
     "output_type": "stream",
     "text": [
      "(480, 640, 3) (500, 667, 3)\n"
     ]
    }
   ],
   "source": [
    "cat = cv2.imread('cat.jpeg')\n",
    "dog = cv2.imread('dog.png')\n",
    "\n",
    "print(cat.shape, dog.shape)\n"
   ],
   "metadata": {
    "collapsed": false
   }
  },
  {
   "cell_type": "code",
   "execution_count": 15,
   "outputs": [],
   "source": [
    "# 从狗里面切出猫的大小\n",
    "dog = dog[0:480,0:640,:]\n",
    "cv2.imshow('dog', dog)\n",
    "cv2.waitKey(0)\n",
    "cv2.destroyAllWindows()"
   ],
   "metadata": {
    "collapsed": false
   }
  },
  {
   "cell_type": "code",
   "execution_count": 10,
   "outputs": [],
   "source": [
    "cat_and_dog = cv2.add(cat, dog)\n",
    "# add: 按位置相加，超过255就取255\n",
    "cv2.imshow('cat_and_dog', cat_and_dog)\n",
    "cv2.waitKey(0)\n",
    "cv2.destroyAllWindows()"
   ],
   "metadata": {
    "collapsed": false
   }
  },
  {
   "cell_type": "code",
   "execution_count": 19,
   "outputs": [],
   "source": [
    "# 图片可以对单个数字运算,超出255会被截断，取余%255（减去255）\n",
    "dog += 100\n",
    "cv2.imshow('dog', dog)\n",
    "cv2.waitKey(0)\n",
    "cv2.destroyAllWindows()"
   ],
   "metadata": {
    "collapsed": false
   }
  },
  {
   "cell_type": "markdown",
   "source": [
    "### 减法\n",
    "剪完后小于0，置于0"
   ],
   "metadata": {
    "collapsed": false
   }
  },
  {
   "cell_type": "code",
   "execution_count": 22,
   "outputs": [],
   "source": [
    "new_img = cv2.subtract(cat, dog)\n",
    "cv2.imshow('subtract', new_img)\n",
    "cv2.waitKey(0)\n",
    "cv2.destroyAllWindows()"
   ],
   "metadata": {
    "collapsed": false
   }
  },
  {
   "cell_type": "markdown",
   "source": [
    "### 乘法除法\n"
   ],
   "metadata": {
    "collapsed": false
   }
  },
  {
   "cell_type": "code",
   "execution_count": 24,
   "outputs": [],
   "source": [
    "new_img = cv2.multiply(cat, dog)\n",
    "cv2.imshow('multiply', new_img)\n",
    "cv2.waitKey(0)\n",
    "cv2.destroyAllWindows()\n",
    "\n",
    "new_img = cv2.divide(cat, dog)\n",
    "cv2.imshow('divide', new_img)\n",
    "cv2.waitKey(0)\n",
    "cv2.destroyAllWindows()"
   ],
   "metadata": {
    "collapsed": false
   }
  },
  {
   "cell_type": "markdown",
   "source": [
    "### 图像的融合\n",
    "不是简单的加法，而是线性的运算\n",
    "\n",
    "+ cv2.addWeighted(src, alpha, sr2, beta, gamma)\n",
    "\n",
    "new_img = img1 * w1 + img2 * w2 + bias"
   ],
   "metadata": {
    "collapsed": false
   }
  },
  {
   "cell_type": "code",
   "execution_count": 29,
   "outputs": [],
   "source": [
    "cat = cv2.imread('cat.jpeg')\n",
    "dog = cv2.imread('dog.png')\n",
    "dog = dog[0:480,0:640,:]\n",
    "new_img = cv2.addWeighted(cat,0.3, dog,0.7, 10)\n",
    "cv2.imshow('addWeighted', new_img)\n",
    "cv2.waitKey(0)\n",
    "cv2.destroyAllWindows()"
   ],
   "metadata": {
    "collapsed": false
   }
  },
  {
   "cell_type": "markdown",
   "source": [
    "### 逻辑运算（与、非、异或、或）\n",
    "对应位置运算"
   ],
   "metadata": {
    "collapsed": false
   }
  },
  {
   "cell_type": "code",
   "execution_count": 45,
   "outputs": [
    {
     "name": "stdout",
     "output_type": "stream",
     "text": [
      "196 25\n",
      "注意：在opencv中，0取反是255，与python中不同 -256\n"
     ]
    }
   ],
   "source": [
    "cat = cv2.imread('cat.jpeg')\n",
    "dog = cv2.imread('dog.png')\n",
    "dog = dog[0:480,0:640,:]\n",
    "\n",
    "# 变成二进制再运算\n",
    "print(204 & 213, 204 ^ 213)\n",
    "print('注意：在opencv中，0取反是255，与python中不同', ~255)\n",
    "\n",
    "# 非操作：相当于 255 - image\n",
    "cat_not = cv2.bitwise_not(cat)\n",
    "cv2.imshow('cat_not and cat', np.hstack((cat_not, cat)))\n",
    "cv2.waitKey(0)\n",
    "cv2.destroyAllWindows()\n",
    "\n",
    "# 与操作：比较黑的留下来了\n",
    "cat_and_dog = cv2.bitwise_and(cat, dog)\n",
    "cv2.imshow('cat_and_dog', cat_and_dog)\n",
    "cv2.waitKey(0)\n",
    "cv2.destroyAllWindows()\n",
    "\n",
    "# 异或操作，\n",
    "cat_xor_dog = cv2.bitwise_xor(cat, dog)\n",
    "cv2.imshow('cat_xor_dog', cat_xor_dog)\n",
    "cv2.waitKey(0)\n",
    "cv2.destroyAllWindows()\n",
    "\n",
    "# 或操作：整体数字变大了，也就是变白了\n",
    "cat_or_dog = cv2.bitwise_or(cat, dog)\n",
    "cv2.imshow('cat_or_dog', cat_or_dog)\n",
    "cv2.waitKey(0)\n",
    "cv2.destroyAllWindows()"
   ],
   "metadata": {
    "collapsed": false
   }
  },
  {
   "cell_type": "markdown",
   "source": [
    "### 图像的放大与缩小\n",
    "+ resize(src:要缩放的图片, dsize:缩放之后的图片大小，元组列表都可表示, dst:可选，缩放之后的输出图片，fx,fy:xy的缩放比，interpolation:插值算法)\n",
    "    + INTER_NEAREST: 邻近插值\n",
    "    + INTER_LINEAR: 双线性插值（原图4个点插值）,默认\n",
    "    + INTER_CUBIC: 三次插值（原图16个值）\n",
    "    + INTER_AREA: 区域插值，效果最好，时间最长"
   ],
   "metadata": {
    "collapsed": false
   }
  },
  {
   "cell_type": "code",
   "execution_count": 65,
   "outputs": [
    {
     "name": "stdout",
     "output_type": "stream",
     "text": [
      "行与列： (480, 640, 3) (500, 667, 3) 对应图片的高度与宽度\n"
     ]
    }
   ],
   "source": [
    "cat = cv2.imread('cat.jpeg')\n",
    "dog = cv2.imread('dog.png')\n",
    "print('行与列：',cat.shape, dog.shape,'对应图片的高度与宽度')\n",
    "new_cat = cv2.resize(cat, dsize=(667, 500), interpolation=cv2.INTER_NEAREST)\n",
    "cv2.imshow('resize and dog', np.hstack((new_cat, dog)))\n",
    "cv2.waitKey(0)\n",
    "cv2.destroyAllWindows()"
   ],
   "metadata": {
    "collapsed": false
   }
  },
  {
   "cell_type": "code",
   "execution_count": 70,
   "outputs": [],
   "source": [
    "# 按照xy轴缩放,dst=None, 并且fx,fy要写名称参数\n",
    "new_dog = cv2.resize(dog, dsize=None, fx=0.5, fy=0.1)\n",
    "cv2.imshow('resize and dog', new_dog)\n",
    "cv2.waitKey(0)\n",
    "cv2.destroyAllWindows()"
   ],
   "metadata": {
    "collapsed": false
   }
  },
  {
   "cell_type": "markdown",
   "source": [
    "### 添加自己的小logo"
   ],
   "metadata": {
    "collapsed": false
   }
  },
  {
   "cell_type": "code",
   "execution_count": 79,
   "outputs": [],
   "source": [
    "logo = np.zeros((200,200,3),dtype=np.uint8)\n",
    "logo[20:120,20:120]=[0,0,255]\n",
    "logo[80:180,80:180]=[0,255,0]\n",
    "# cv2.imshow('logo', logo)\n",
    "# cv2.waitKey(0)\n",
    "# cv2.destroyAllWindows()\n",
    "\n",
    "# 利用掩码\n",
    "mask = np.zeros((200,200), dtype=np.uint8)\n",
    "# 白色与任何东西与都是白色\n",
    "mask[20:120,20:120]=255\n",
    "mask[80:180,80:180]=255\n",
    "m = cv2.bitwise_not(mask)\n",
    "\n",
    "# 浅拷贝\n",
    "roi = dog[0:200, 0:200]\n",
    "# 自己与roi自己还是自己，结果再mask，如果与的结果是True返回原图的像素，否则返回0\n",
    "tmp = cv2.bitwise_and(roi, roi, mask=m)\n",
    "# cv2.imshow('tmp', tmp)\n",
    "\n",
    "dst = cv2.add(tmp, logo)\n",
    "# cv2.imshow('dst', dst)\n",
    "# 在dog上还原\n",
    "dog[0:200, 0:200] =dst\n",
    "cv2.imshow('logo dog', dog)\n",
    "cv2.waitKey(0)\n",
    "cv2.destroyAllWindows()"
   ],
   "metadata": {
    "collapsed": false
   }
  },
  {
   "cell_type": "markdown",
   "source": [
    "### 图像的翻转\n",
    "+ cv2.flip(src, flipCode)\n",
    "    + flipCode=0:上下翻转\n",
    "    + flipCode>0:左右翻转\n",
    "    + flip<0: 上下左右翻转"
   ],
   "metadata": {
    "collapsed": false
   }
  },
  {
   "cell_type": "code",
   "execution_count": 80,
   "outputs": [],
   "source": [
    "dog = cv2.imread('dog.png')\n",
    "new_dog = cv2.flip(dog, flipCode=0)\n",
    "cv2.imshow('flipCode=0 up down', new_dog)\n",
    "cv2.waitKey(0)\n",
    "cv2.destroyAllWindows()"
   ],
   "metadata": {
    "collapsed": false
   }
  },
  {
   "cell_type": "markdown",
   "source": [
    "### 图像的旋转\n",
    "+ cv2.rotate(img, rotateCode)\n",
    "    + ROTATE_90_CLOCKWISE：顺时针90度\n",
    "    + ROTATE_180\n",
    "    + ROTATE_90_COUNTERCLOCKWISE:逆时针90度"
   ],
   "metadata": {
    "collapsed": false
   }
  },
  {
   "cell_type": "code",
   "execution_count": 81,
   "outputs": [],
   "source": [
    "dog = cv2.imread('dog.png')\n",
    "new_dog = cv2.rotate(dog, rotateCode=cv2.ROTATE_90_CLOCKWISE)\n",
    "cv2.imshow('ROTATE_90_CLOCKWISE', new_dog)\n",
    "cv2.waitKey(0)\n",
    "cv2.destroyAllWindows()"
   ],
   "metadata": {
    "collapsed": false
   }
  },
  {
   "cell_type": "markdown",
   "source": [
    "### 仿射变换\n",
    "旋转、缩放、平移\n",
    "之平移\n",
    "+ cv2.warpAffine(src,M,dsize,flags,mode,value)\n",
    "    +  M 变换矩阵\n",
    "    + flag：与resize的插值一致\n",
    "    + mode：边界外推法标志\n",
    "    + value：填充边界值"
   ],
   "metadata": {
    "collapsed": false
   }
  },
  {
   "cell_type": "markdown",
   "source": [
    "平移矩阵\n",
    "![平移矩阵](平移矩阵.png)\n",
    "\n",
    "（下面的1无所谓，只是为了成为1×1的矩阵）"
   ],
   "metadata": {
    "collapsed": false
   }
  },
  {
   "cell_type": "code",
   "execution_count": 89,
   "outputs": [],
   "source": [
    "dog = cv2.imread('dog.png')\n",
    "h, w, ch = dog.shape\n",
    "\n",
    "# tx=100往右边移动200个元素\n",
    "# 注意M 不需要与img同shape\n",
    "M = np.float32([[1, 0, 200], [0, 1, 0]])\n",
    "# opencv中先w，再w\n",
    "new = cv2.warpAffine(dog, M, (w,h))\n",
    "cv2.imshow('new', new)\n",
    "cv2.waitKey(0)\n",
    "cv2.destroyAllWindows()"
   ],
   "metadata": {
    "collapsed": false
   }
  },
  {
   "cell_type": "markdown",
   "source": [
    "### 获取opencv提供的变换矩阵\n",
    "\n",
    "+ cv2.getRotationMatrix2D(center,angle,scale)"
   ],
   "metadata": {
    "collapsed": false
   }
  },
  {
   "cell_type": "code",
   "execution_count": 96,
   "outputs": [
    {
     "name": "stdout",
     "output_type": "stream",
     "text": [
      "[[  0.35355339   0.35355339 127.20159659]\n",
      " [ -0.35355339   0.35355339 279.52170811]]\n",
      "(500, 667, 3) (2, 3)\n"
     ]
    }
   ],
   "source": [
    "dog = cv2.imread('dog.png')\n",
    "h, w, ch = dog.shape\n",
    "\n",
    "M = cv2.getRotationMatrix2D((100,100),45,0.5)\n",
    "new = cv2.warpAffine(dog, M, (w,h))\n",
    "cv2.imshow('new', new)\n",
    "cv2.waitKey(0)\n",
    "cv2.destroyAllWindows()\n",
    "\n",
    "# 以图像中心旋转\n",
    "M = cv2.getRotationMatrix2D((w/2,h/2),45,.5)\n",
    "new = cv2.warpAffine(dog, M, (w,h))\n",
    "cv2.imshow('new', new)\n",
    "cv2.waitKey(0)\n",
    "cv2.destroyAllWindows()\n",
    "print(M)\n",
    "print(new.shape, M.shape)"
   ],
   "metadata": {
    "collapsed": false
   }
  },
  {
   "cell_type": "markdown",
   "source": [
    "### 通过三个点确定变换矩阵"
   ],
   "metadata": {
    "collapsed": false
   }
  },
  {
   "cell_type": "code",
   "execution_count": 107,
   "outputs": [
    {
     "name": "stdout",
     "output_type": "stream",
     "text": [
      "[[ -3.6   5.6 440. ]\n",
      " [  1.   -2.  100. ]]\n",
      "(500, 667, 3) (2, 3)\n"
     ]
    }
   ],
   "source": [
    "\n",
    "dog = cv2.imread('dog.png')\n",
    "h, w, ch = dog.shape\n",
    "# 需要原始图片三个点坐标和变换之后三个对应的坐标\n",
    "src = np.float32([[250,100],[100,50],[200,100]])\n",
    "dst = np.float32([[100,150],[360,100],[280,100]])\n",
    "M = cv2.getAffineTransform(src,dst)\n",
    "new = cv2.warpAffine(dog, M, (w,h))\n",
    "cv2.imshow('new', new)\n",
    "cv2.waitKey(0)\n",
    "cv2.destroyAllWindows()\n",
    "print(M)\n",
    "print(new.shape, M.shape)"
   ],
   "metadata": {
    "collapsed": false
   }
  },
  {
   "cell_type": "markdown",
   "source": [
    "### 透视变换\n",
    "透视变换就是把一种坐标系变换成另一种坐标系。简单说就是把一张斜的图变正\n",
    "\n",
    "+ warpPerspective(img,M,dsize)\n",
    "+ 对于透视变换来说，M是一个3 $\\times$ 3的矩阵\n",
    "+ getPerspectiveTransform(src,dst)获取透视变换的矩阵，需要4个点即图片的4个角"
   ],
   "metadata": {
    "collapsed": false
   }
  },
  {
   "cell_type": "code",
   "execution_count": 166,
   "outputs": [
    {
     "name": "stdout",
     "output_type": "stream",
     "text": [
      "598 534 3\n",
      "<class 'numpy.ndarray'> float64 (3, 3) [[ 5.58383289e-17 -7.87574998e-17  1.79557496e-14]\n",
      " [ 3.89831512e-02 -6.98448126e-01  1.71532363e+02]\n",
      " [-3.22326552e-04 -3.05086053e-03  1.00000000e+00]]\n"
     ]
    }
   ],
   "source": [
    "img = cv2.imread('123.png')\n",
    "\n",
    "\n",
    "h, w, ch = img.shape\n",
    "print(h, w, ch)\n",
    "# 利用画图软件获取透视变化顶点坐标，这里按照的左上->右上->左下->右下\n",
    "src = np.float32([[79,250], [381,124],[199,468], [509,274]])\n",
    "# # src 是原图的4个点坐标\n",
    "# src = np.float32([[0,0], [0,w],[0,h], [w,h]])\n",
    "dst = np.float32([[0,0], [0,200], [0,300], [200,300]])\n",
    "M = cv2.getPerspectiveTransform(src=src,dst=dst)\n",
    "print(type(M), M.dtype, M.shape, M)\n",
    "\n",
    "# warp变换 Affine 仿射\n",
    "\n",
    "# img = cv2.warpAffine(img,M,dsize=(509,274))不要用错，透视不是这一个\n",
    "new = cv2.warpPerspective(img, M, dsize=(w,h), flags=cv2.INTER_NEAREST)\n",
    "cv2.imshow('img', img)\n",
    "cv2.imshow('new', new)\n",
    "\n",
    "cv2.waitKey(0)\n",
    "cv2.destroyAllWindows()"
   ],
   "metadata": {
    "collapsed": false
   }
  },
  {
   "cell_type": "code",
   "execution_count": null,
   "outputs": [],
   "source": [],
   "metadata": {
    "collapsed": false,
    "pycharm": {
     "is_executing": true
    }
   }
  },
  {
   "cell_type": "code",
   "execution_count": 157,
   "outputs": [],
   "source": [],
   "metadata": {
    "collapsed": false
   }
  }
 ],
 "metadata": {
  "kernelspec": {
   "display_name": "Python 3",
   "language": "python",
   "name": "python3"
  },
  "language_info": {
   "codemirror_mode": {
    "name": "ipython",
    "version": 2
   },
   "file_extension": ".py",
   "mimetype": "text/x-python",
   "name": "python",
   "nbconvert_exporter": "python",
   "pygments_lexer": "ipython2",
   "version": "2.7.6"
  }
 },
 "nbformat": 4,
 "nbformat_minor": 0
}
