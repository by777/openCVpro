{
 "cells": [
  {
   "cell_type": "code",
   "execution_count": 1,
   "metadata": {
    "collapsed": true
   },
   "outputs": [],
   "source": [
    "import cv2\n",
    "import numpy as np"
   ]
  },
  {
   "cell_type": "markdown",
   "source": [
    "### 卷积操作\n",
    "\n",
    "+ filter2D(src, ddepth, kernel[, dst[, anchor[, delta[, borderType]]]])\n",
    "    + ddepth：卷积后的位深，一般是-1，与原图保持一致\n",
    "    + kernel\n",
    "    + anchor: 卷积核的中心点默认（-1，-1）\n",
    "    + delta：默认0，相当于bias\n",
    "    + borderType：边界类型一半不设"
   ],
   "metadata": {
    "collapsed": false
   }
  },
  {
   "cell_type": "code",
   "execution_count": 11,
   "outputs": [
    {
     "name": "stdout",
     "output_type": "stream",
     "text": [
      "(480, 640, 3) (480, 640, 3)\n"
     ]
    }
   ],
   "source": [
    "img = cv2.imread('cat.jpeg')\n",
    "\n",
    "# kernel必须是float类型\n",
    "kernel = np.ones((5,5), np.float32) / 25\n",
    "\n",
    "# -1 表示卷积之后图片形状不限\n",
    "new = cv2.filter2D(img,-1,kernel)\n",
    "cv2.imshow('new and img', np.hstack((new,img)))\n",
    "\n",
    "print(img.shape, new.shape)\n",
    "cv2.waitKey(0)\n",
    "cv2.destroyAllWindows()"
   ],
   "metadata": {
    "collapsed": false
   }
  },
  {
   "cell_type": "markdown",
   "source": [
    "### 测试不同卷积核"
   ],
   "metadata": {
    "collapsed": false
   }
  },
  {
   "cell_type": "code",
   "execution_count": 25,
   "outputs": [],
   "source": [
    "# 轮廓\n",
    "img = cv2.imread('cat.jpeg')\n",
    "lunkuo = np.float32([[-1,-1,-1],[-1,8,-1],[-1,-1,-1]])\n",
    "new = cv2.filter2D(img,-1,lunkuo)\n",
    "cv2.imshow('new and img', np.hstack((new,img)))\n",
    "cv2.waitKey(0)\n",
    "cv2.destroyAllWindows()"
   ],
   "metadata": {
    "collapsed": false
   }
  },
  {
   "cell_type": "code",
   "execution_count": 23,
   "outputs": [],
   "source": [
    "# 浮雕\n",
    "img = cv2.imread('cat.jpeg')\n",
    "fudiao = np.float32([[-2,1,0],[-1,1,1],[0,1,2]])\n",
    "img = cv2.cvtColor(img, cv2.COLOR_BGR2GRAY)\n",
    "new = cv2.filter2D(img,-1,fudiao)\n",
    "cv2.imshow('new and img', np.hstack((new,img)))\n",
    "cv2.waitKey(0)\n",
    "cv2.destroyAllWindows()"
   ],
   "metadata": {
    "collapsed": false
   }
  },
  {
   "cell_type": "code",
   "execution_count": 24,
   "outputs": [],
   "source": [
    "# 锐化\n",
    "img = cv2.imread('cat.jpeg')\n",
    "ruihua = np.float32([[0,-1,0],[-1,5,-1],[0,-1,0]])\n",
    "new = cv2.filter2D(img,-1,ruihua)\n",
    "cv2.imshow('new and img', np.hstack((new,img)))\n",
    "cv2.waitKey(0)\n",
    "cv2.destroyAllWindows()"
   ],
   "metadata": {
    "collapsed": false
   }
  },
  {
   "cell_type": "markdown",
   "source": [
    "### 方盒滤波\n",
    "+ boxFilter(src, ddepth, ksize[, dst[, [anchor[, normalize[, borderType]]]])\n",
    "+ blur(src, ksize[, dst[, anchor[, borderType]]])均值滤波\n",
    "\n",
    "方盒滤波的卷积核是固定的\n",
    "\n",
    "![方盒滤波](方盒滤波.png)"
   ],
   "metadata": {
    "collapsed": false
   }
  },
  {
   "cell_type": "code",
   "execution_count": 32,
   "outputs": [],
   "source": [
    "# 方盒滤波\n",
    "img = cv2.imread('cat.jpeg')\n",
    "new = cv2.boxFilter(img,-1,(5,5),normalize=True)\n",
    "cv2.imshow('new ', new)\n",
    "cv2.waitKey(0)\n",
    "cv2.destroyAllWindows()"
   ],
   "metadata": {
    "collapsed": false
   }
  },
  {
   "cell_type": "code",
   "execution_count": 33,
   "outputs": [],
   "source": [
    "# 均值滤波\n",
    "img = cv2.imread('cat.jpeg')\n",
    "new = cv2.blur(img,(3,3))\n",
    "cv2.imshow('new ', new)\n",
    "cv2.waitKey(0)\n",
    "cv2.destroyAllWindows()"
   ],
   "metadata": {
    "collapsed": false
   }
  },
  {
   "cell_type": "markdown",
   "source": [
    "#### 高斯滤波\n",
    "卷积核的数字符合高斯分布\n",
    "<font size=15>\n",
    "$\n",
    "G(x,y) = \\frac {1} {2 \\pi \\sigma^2 } e^{- \\frac {x^2 + y^2} {2 \\sigma^2}}\n",
    "$\n",
    "</font>"
   ],
   "metadata": {
    "collapsed": false
   },
   "outputs": []
  },
  {
   "cell_type": "markdown",
   "source": [
    "+ GaussianBlur(src, ksize, sigmaX[,dst[,sigmaY[,borderType]]])\n",
    "    + sigmaX: X轴的标准差\n",
    "    + sigmaY: Y轴的标准差\n",
    "    + 如果没有指定sigma值，会分别从ksize的宽度和高度中计算sigma\n",
    "\n",
    "选择不同的sigma，sigma越大，平滑效果越明显\n",
    "举例：\n",
    "\n",
    "计算（0，0）坐标点对应的值\n",
    "x=y=0,规定sigma=1.5"
   ],
   "metadata": {
    "collapsed": false
   },
   "outputs": []
  },
  {
   "cell_type": "code",
   "execution_count": 37,
   "outputs": [
    {
     "data": {
      "text/plain": "0.0707355302630646"
     },
     "execution_count": 37,
     "metadata": {},
     "output_type": "execute_result"
    }
   ],
   "source": [
    "1 / (2 * np.pi * 1.5 ** 2)"
   ],
   "metadata": {
    "collapsed": false
   }
  },
  {
   "cell_type": "markdown",
   "source": [
    "![高斯分布](高斯分布.png)\n",
    "![高斯核](高斯核.png)"
   ],
   "metadata": {
    "collapsed": false
   }
  },
  {
   "cell_type": "code",
   "execution_count": 45,
   "outputs": [
    {
     "name": "stdout",
     "output_type": "stream",
     "text": [
      "sigma越大平滑效果越明显，也越模糊\n"
     ]
    }
   ],
   "source": [
    "# 注意：有些高斯模板是在归一化之后除以左上角的值，然后取整\n",
    "img = cv2.imread('lena.jpg')\n",
    "print('sigma越大平滑效果越明显，也越模糊')\n",
    "cat1 = cv2.GaussianBlur(img,ksize=(5,5),sigmaX=0)\n",
    "cat2 = cv2.GaussianBlur(img,ksize=(5,5),sigmaX=1.)\n",
    "cat3 = cv2.GaussianBlur(img,ksize=(5,5),sigmaX=10.)\n",
    "cat4 = cv2.GaussianBlur(img,ksize=(5,5),sigmaX=100)\n",
    "cv2.imshow('sigma 0 1 10 100 ', np.hstack((cat1, cat2, cat3, cat4)))\n",
    "\n",
    "cv2.waitKey(0)\n",
    "cv2.destroyAllWindows()"
   ],
   "metadata": {
    "collapsed": false
   }
  },
  {
   "cell_type": "markdown",
   "source": [
    "### 中值滤波\n",
    "中值滤波对椒盐噪音效果最明显"
   ],
   "metadata": {
    "collapsed": false
   }
  },
  {
   "cell_type": "code",
   "execution_count": 80,
   "outputs": [
    {
     "name": "stdout",
     "output_type": "stream",
     "text": [
      "(512, 512, 3)\n"
     ]
    },
    {
     "data": {
      "text/plain": "<matplotlib.image.AxesImage at 0x1a9be9356a0>"
     },
     "execution_count": 80,
     "metadata": {},
     "output_type": "execute_result"
    },
    {
     "data": {
      "text/plain": "<Figure size 432x288 with 2 Axes>",
      "image/png": "[encoded data removed]"
     },
     "metadata": {
      "needs_background": "light"
     },
     "output_type": "display_data"
    }
   ],
   "source": [
    "papper = cv2.imread('papper.png')\n",
    "print(papper.shape)\n",
    "\n",
    "b, g, r = cv2.split(papper)\n",
    "image1 = cv2.merge((r,g,b))\n",
    "\n",
    "b = papper[:,:,0].copy()\n",
    "g = papper[:,:,1].copy()\n",
    "r = papper[:,:,2].copy()\n",
    "image = papper.copy()\n",
    "image[:,:,0] = r\n",
    "image[:,:,1] = g\n",
    "image[:,:,2] = b\n",
    "\n",
    "import matplotlib.pyplot as plt\n",
    "\n",
    "plt.subplot(121)\n",
    "plt.axis('off') # 不关闭会影响显示\n",
    "plt.imshow(image)\n",
    "plt.subplot(122)\n",
    "plt.axis('off') # 不关闭会影响显示\n",
    "plt.imshow(image1)"
   ],
   "metadata": {
    "collapsed": false
   }
  },
  {
   "cell_type": "code",
   "execution_count": 68,
   "outputs": [],
   "source": [
    "new = cv2.medianBlur(papper,ksize=5)\n",
    "cv2.imshow('mediaBlur and papper', np.hstack((new,papper)))\n",
    "cv2.waitKey(0)\n",
    "cv2.destroyAllWindows()"
   ],
   "metadata": {
    "collapsed": false
   }
  },
  {
   "cell_type": "markdown",
   "source": [
    "### 双边滤波\n",
    "双边滤波（Bilateral filter）是一种非线性的滤波方法，\n",
    "是结合图像的空间邻近度和像素值相似度的一种折衷处理，\n",
    "同时考虑空域信息和灰度相似性，达到保边去噪的目的。\n",
    "\n",
    "双边滤波器之所以能够做到在平滑去噪的同时还能够很好的保存边缘（Edge Preserve）\n",
    "\n",
    "双边滤波可以保留边缘，同时可以对边缘内的区域平滑处理。（美颜）\n",
    "\n",
    "原理就是一个与空间相关的高斯函数与一个灰度距离相关的高斯函数相乘 -> 高斯卷积\\*灰度距离的卷积\\*像素点卷积\n",
    "\n",
    "+ bilateralFilter(src, d, sigmaColor, sigmaSpace[, dst[, borderType]])\n",
    "    + d: kernel_size\n",
    "    + sigmaColor:计算像素信息使用的sigma\n",
    "    + sigmaSpace:计算空间信息使用的sigma"
   ],
   "metadata": {
    "collapsed": false
   }
  },
  {
   "cell_type": "code",
   "execution_count": 90,
   "outputs": [],
   "source": [
    "# img = cv2.imread('papper.png') # 双边滤波对椒盐噪声几乎没效果\n",
    "img = cv2.imread('lena.jpg')\n",
    "new = cv2.bilateralFilter(img,d=7,sigmaColor=20,sigmaSpace=50)\n",
    "cv2.imshow('new and img', np.hstack((new,img)))\n",
    "cv2.waitKey(0)\n",
    "cv2.destroyAllWindows()"
   ],
   "metadata": {
    "collapsed": false
   }
  },
  {
   "cell_type": "markdown",
   "source": [
    "### sobel算子\n",
    "\n",
    "前面的滤波都是用来降噪的，这里的算子是用来找边界的\n",
    "\n",
    "边缘是像素值发生跃迁的位置，是图像的显著特征之一，在图像特征提取，对象检测，模式识别等方面都有重要的作用。\n",
    "\n",
    "sobel算子对图像求一阶导数。一阶导数越大，说明像素在该方向的变化越大，边缘信号越强。\n",
    "（离散差分算子）\n",
    "因为图像的灰度值都是离散的数字, sobel算子采用离散差分算子计算图像像素点亮度值的近似梯度.\n",
    "\n",
    "图像是二维的,即沿着宽度/高度两个方向.\n",
    "我们使用两个卷积核对原图像进行处理:\n",
    "![sobel算子](sobel算子.png)\n"
   ],
   "metadata": {
    "collapsed": false
   }
  },
  {
   "cell_type": "code",
   "execution_count": 98,
   "outputs": [
    {
     "name": "stdout",
     "output_type": "stream",
     "text": [
      "计算dx，水平方向，得出垂直边缘；计算dy，垂直方向，得出水平边缘\n"
     ]
    }
   ],
   "source": [
    "img = cv2.imread('chess.png')\n",
    "\n",
    "# 注意sobel要分别算x、y方向的梯度\n",
    "dx = cv2.Sobel(img, cv2.CV_64F, dx=1, dy=0, ksize=5)\n",
    "dy = cv2.Sobel(img, cv2.CV_64F, dx=0, dy=1, ksize=5)\n",
    "cv2.imshow('img', img)\n",
    "cv2.imshow('dx dy', np.hstack((dx,dy)))\n",
    "dst = cv2.add(dx,dy)\n",
    "cv2.imshow('dst', dst)\n",
    "cv2.waitKey(0)\n",
    "cv2.destroyAllWindows()\n",
    "print('计算dx，水平方向，得出垂直边缘；计算dy，垂直方向，得出水平边缘')"
   ],
   "metadata": {
    "collapsed": false
   }
  },
  {
   "cell_type": "markdown",
   "source": [
    "### 沙尔算子（Scharr）\n",
    "改进Sobel算子在梯度变换不大检测不到的缺点\n",
    "+ Scharr(src, ddepth, dx, dy[, dst[, scale[, delta[, borderType]]]])\n",
    "\n",
    "![沙尔算子](沙尔算子.png)\n",
    "当sobel 算子kennel_size=-1就是沙尔算子\n"
   ],
   "metadata": {
    "collapsed": false
   }
  },
  {
   "cell_type": "markdown",
   "source": [
    "当内核大小位3时，Sobel效果不好。\n",
    "Sharr仅能用于 3 \\* 3 的内核。\n",
    "与Sobel一样快，结果却更加精准。\n",
    "\n",
    "+ 擅长寻找细小的边缘"
   ],
   "metadata": {
    "collapsed": false
   }
  },
  {
   "cell_type": "code",
   "execution_count": 100,
   "outputs": [],
   "source": [
    "img = cv2.imread('lena.jpg')\n",
    "dx = cv2.Scharr(img, cv2.CV_64F, dx=1, dy=0)\n",
    "dy = cv2.Scharr(img, cv2.CV_64F, dx=0, dy=1)\n",
    "dst = cv2.add(dx,dy)\n",
    "cv2.imshow('dst', dst)\n",
    "cv2.waitKey(0)\n",
    "cv2.destroyAllWindows()"
   ],
   "metadata": {
    "collapsed": false
   }
  },
  {
   "cell_type": "markdown",
   "source": [
    "### 拉普拉斯算子\n",
    "\n",
    "sobel算子是求一阶导，拉普拉斯是继续求二阶导\n",
    "\n",
    "利用边缘处的二阶导数是0。\n",
    "\n",
    "+ Laplacian(src, ddepth[, dst[, ksize[, scale[, delta[, borderType]l]ll)\n",
    "+ 可以同时求两个方向的边缘\n",
    "+ 对噪音敏感,一般需要先进行去噪再调用拉普拉斯\n"
   ],
   "metadata": {
    "collapsed": false
   }
  },
  {
   "cell_type": "markdown",
   "source": [
    "![拉普拉斯算子](拉普拉斯算子.png)\n",
    "\n",
    "> 上图代表element-wise乘法"
   ],
   "metadata": {
    "collapsed": false
   }
  },
  {
   "cell_type": "code",
   "execution_count": 105,
   "outputs": [],
   "source": [
    "img = cv2.imread('chess.png')\n",
    "new = cv2.Laplacian(img, cv2.CV_64F, ksize=5)\n",
    "cv2.imshow('new', new)\n",
    "cv2.waitKey(0)\n",
    "cv2.destroyAllWindows()"
   ],
   "metadata": {
    "collapsed": false
   }
  },
  {
   "cell_type": "code",
   "execution_count": 107,
   "outputs": [],
   "source": [
    "# 对椒盐噪声也不好\n",
    "img = cv2.imread('papper.png')\n",
    "new = cv2.Laplacian(img, cv2.CV_64F, ksize=5)\n",
    "cv2.imshow('new', new)\n",
    "cv2.waitKey(0)\n",
    "cv2.destroyAllWindows()"
   ],
   "metadata": {
    "collapsed": false
   }
  },
  {
   "cell_type": "markdown",
   "source": [
    "### 形态学morphology\n",
    "\n",
    "什么是形态学：指的一系列处理形状特征的图像处理技术\n",
    "\n",
    "利用一种特殊的结构元（本质是卷积，元素是1或者0）来测量或者提取图像中相应的形状或特征\n",
    "\n",
    "这些处理基本是对二值图像（黑白图像）进行处理\n",
    "\n",
    "处理方法包含：\n",
    "+ 膨胀和腐蚀\n",
    "+ 开运算、闭运算\n",
    "+ 顶帽与黑帽\n"
   ],
   "metadata": {
    "collapsed": false
   }
  },
  {
   "cell_type": "markdown",
   "source": [
    "### 图像的全局二值化\n",
    "二值化：把图像的每个像素转变为0或者255（或0与1）\n",
    "+ threshold(src, thresh, maxValue, type)\n",
    "    + cv2.THRESH_BINARY # 大于阈值就设置为一个值，否则为0\n",
    "    + cv2.THRESH_BINARY_INV # 与上面相反\n",
    "    + cv2.THRESH_TRUNC # 大于阈值，就截断，设置为阈值\n",
    "    + cv2.THRESH_TOZERO # 大于阈值就设置为不设置，小于就设置为0\n",
    "\n",
    "\n",
    "![全局阈值](全局阈值.png)"
   ],
   "metadata": {
    "collapsed": false
   }
  },
  {
   "cell_type": "code",
   "execution_count": 143,
   "outputs": [
    {
     "name": "stdout",
     "output_type": "stream",
     "text": [
      "127.0\n"
     ]
    }
   ],
   "source": [
    "img = cv2.imread('lena.jpg')\n",
    "gray = cv2.cvtColor(img, cv2.COLOR_BGR2GRAY)\n",
    "# threshold返回阈值，和处理后的图片\n",
    "thresh, new = cv2.threshold(gray,127,255,cv2.THRESH_BINARY)\n",
    "cv2.imshow('new', np.hstack((gray, new)))\n",
    "cv2.waitKey(0)\n",
    "cv2.destroyAllWindows()\n",
    "print(thresh)"
   ],
   "metadata": {
    "collapsed": false
   }
  },
  {
   "cell_type": "markdown",
   "source": [
    "### 自适应阈值二值化\n",
    "+ adaptiveThreshold(src, maxValue, adaptiveMethod, thresholdType, blockSize, C, dst=None)\n",
    "    + adaptiveMethod: 指定计算阈值的方法\n",
    "        + cv2.ADAPTIVE_THRESH_MEAN_C: 阈值取自相邻区域的平均值\n",
    "        + cv2.ADAPTIVE_THRESH_GAUSSIAN_C: 阈值取自相邻区域的加权和，权重为一个高斯窗口\n",
    "        + blockSize: 邻域大小\n",
    "        + C: 常数，阈值等于平均值或者加权平均值减去这个C"
   ],
   "metadata": {
    "collapsed": false
   }
  },
  {
   "cell_type": "code",
   "execution_count": null,
   "outputs": [],
   "source": [
    "img = cv2.imread('lena.jpg')\n",
    "gray = cv2.cvtColor(img, cv2.COLOR_BGR2GRAY)\n",
    "# 全局阈值,返回阈值和处理后的图像\n",
    "thresh, dst = cv2.threshold(gray, 110, 255, cv2.THRESH_BINARY)\n",
    "print('全局阈值',thresh)\n",
    "# 自适应阈值: 更精细，突出更多细节\n",
    "dst1 = cv2.adaptiveThreshold(gray, 255, cv2.ADAPTIVE_THRESH_GAUSSIAN_C, cv2.THRESH_BINARY, 3, 0)\n",
    "\n",
    "cv2.imshow('global and adaptive', np.hstack((dst, dst1)))\n",
    "cv2.waitKey(0)\n",
    "cv2.destroyAllWindows()"
   ],
   "metadata": {
    "collapsed": false
   }
  },
  {
   "cell_type": "markdown",
   "source": [
    "### 腐蚀操作\n",
    "腐蚀也是使用卷积核扫描图像，不过卷积核都是1。\n",
    "如果卷积核内像素点都是白色，那么锚点即为白色\n",
    "+ dst = cv2.erode(img, kernel, iterations=1)\n",
    "\n",
    "### 获取形态学卷积核\n",
    "+ cv2.getStructuringElement(shape,ksize[,ksize])\n",
    "    + shape 指卷积核的形状，注意不是长和宽，是指卷积核中1形成的形状\n",
    "        + MORPH_RECT 卷积核中的1是矩形，常用\n",
    "        + MORPH_ELLIPSE 椭圆\n",
    "        + MORPH_CROSS 十字"
   ],
   "metadata": {
    "collapsed": false
   }
  },
  {
   "cell_type": "code",
   "execution_count": 36,
   "outputs": [],
   "source": [
    "# 腐蚀操作\n",
    "img = cv2.imread('dige.png')\n",
    "kernel = np.ones((3,3), np.uint8)\n",
    "dst = cv2.erode(img, kernel, iterations=1)\n",
    "cv2.imshow('img and erode', np.hstack((img, dst)))\n",
    "cv2.waitKey(0)\n",
    "cv2.destroyAllWindows()\n",
    "\n",
    "# 获取形态学卷积核，并使用\n",
    "kernel = cv2.getStructuringElement(cv2.MORPH_CROSS, (5,5))\n",
    "dst = cv2.erode(img, kernel, iterations=1)\n",
    "cv2.imshow('img and erode', np.hstack((img, dst)))\n",
    "cv2.waitKey(0)\n",
    "cv2.destroyAllWindows()"
   ],
   "metadata": {
    "collapsed": false
   }
  },
  {
   "cell_type": "markdown",
   "source": [
    "### 膨胀操作\n",
    "是膨胀的反操作"
   ],
   "metadata": {
    "collapsed": false
   }
  },
  {
   "cell_type": "code",
   "execution_count": 156,
   "outputs": [],
   "source": [
    "# 膨胀\n",
    "img = cv2.imread('dige.png')\n",
    "# 获取形态学卷积核，并使用\n",
    "kernel = cv2.getStructuringElement(cv2.MORPH_RECT, (5,5))\n",
    "dst = cv2.dilate(img, kernel, iterations=1)\n",
    "cv2.imshow('img and dilate', np.hstack((img, dst)))\n",
    "cv2.waitKey(0)\n",
    "cv2.destroyAllWindows()"
   ],
   "metadata": {
    "collapsed": false
   }
  },
  {
   "cell_type": "markdown",
   "source": [
    "### 开闭运算（看最后一个）\n",
    "\n",
    "### 开\n",
    "+ morphologyEx(src, MORPH_OPEN, kernel)\n",
    "\n",
    "开 = 腐蚀（变小） + 膨胀（变大） 结果看后一个，变大"
   ],
   "metadata": {
    "collapsed": false
   }
  },
  {
   "cell_type": "code",
   "execution_count": 26,
   "outputs": [],
   "source": [
    "import cv2\n",
    "import numpy as np\n",
    "img = cv2.imread('dige.png')\n",
    "# 开运算提供了另一种去除噪声的思路\n",
    "# 腐蚀消除小点，膨胀又增大主体\n",
    "kernel = cv2.getStructuringElement(cv2.MORPH_RECT,(5,5))\n",
    "img_erode = cv2.erode(img,kernel,iterations=1)\n",
    "img_dilate = cv2.dilate(img_erode,kernel,iterations=1)\n",
    "\n",
    "end = cv2.morphologyEx(img,cv2.MORPH_OPEN,kernel, iterations=1)\n",
    "cv2.imshow('img ,img_erode and img_dilate ', np.hstack((img, img_erode, img_dilate)))\n",
    "cv2.imshow('end', end)\n",
    "cv2.waitKey(0)\n",
    "cv2.destroyAllWindows()"
   ],
   "metadata": {
    "collapsed": false
   }
  },
  {
   "cell_type": "markdown",
   "source": [
    "### 闭\n",
    "闭 = 膨胀（变大） + 腐蚀（变小） 结果看后一个，变小。用于白色主体内部的黑色噪声"
   ],
   "metadata": {
    "collapsed": false
   }
  },
  {
   "cell_type": "code",
   "execution_count": 27,
   "outputs": [],
   "source": [
    "img = cv2.imread('dot.png')\n",
    "# 开运算提供了另一种去除噪声的思路\n",
    "# 腐蚀消除小点，膨胀又增大主体\n",
    "kernel = cv2.getStructuringElement(cv2.MORPH_RECT,(5,5))\n",
    "img_dilate = cv2.dilate(img,kernel,iterations=7)\n",
    "img_erode = cv2.erode(img_dilate,kernel,iterations=2)\n",
    "end = cv2.morphologyEx(img,cv2.MORPH_CLOSE, kernel, iterations=7)\n",
    "\n",
    "cv2.imshow('img ,img_dilate and img_erode ', np.hstack((img, img_dilate, img_erode)))\n",
    "cv2.imshow('end', end)\n",
    "cv2.waitKey(0)\n",
    "cv2.destroyAllWindows()"
   ],
   "metadata": {
    "collapsed": false
   }
  },
  {
   "cell_type": "markdown",
   "source": [
    "### 形态学梯度\n",
    "梯度 = 原图 - 腐蚀\n",
    "\n",
    "解释：\n",
    "腐蚀之后原图边缘变小了，使用原图减去腐蚀之后的图片就可以得到腐蚀掉的部分，即边缘"
   ],
   "metadata": {
    "collapsed": false
   }
  },
  {
   "cell_type": "code",
   "execution_count": 32,
   "outputs": [],
   "source": [
    "img = cv2.imread('dot.png')\n",
    "kernel = cv2.getStructuringElement(cv2.MORPH_RECT,(3,3))\n",
    "new = cv2.morphologyEx(img,cv2.MORPH_GRADIENT, kernel)\n",
    "cv2.imshow('new', new)\n",
    "cv2.waitKey(0)\n",
    "cv2.destroyAllWindows()"
   ],
   "metadata": {
    "collapsed": false
   }
  },
  {
   "cell_type": "markdown",
   "source": [
    "### 顶帽操作\n",
    "顶帽 = 原图 - 开运算（腐蚀+膨胀）\n",
    "效果：得到去掉的噪点"
   ],
   "metadata": {
    "collapsed": false
   }
  },
  {
   "cell_type": "code",
   "execution_count": 39,
   "outputs": [],
   "source": [
    "img = cv2.imread('dot.png')\n",
    "kernel = cv2.getStructuringElement(cv2.MORPH_RECT, (2, 2))\n",
    "tophat = cv2.morphologyEx(img, cv2.MORPH_TOPHAT, kernel, iterations=1)\n",
    "cv2.imshow('tophat', tophat)\n",
    "cv2.waitKey(0)\n",
    "cv2.destroyAllWindows()"
   ],
   "metadata": {
    "collapsed": false
   }
  },
  {
   "cell_type": "markdown",
   "source": [
    "### 黑帽操作\n",
    "顶帽 = 原图 - 闭运算（膨胀+腐蚀）\n",
    "效果：得到图形内部的噪点"
   ],
   "metadata": {
    "collapsed": false
   }
  },
  {
   "cell_type": "code",
   "execution_count": 38,
   "outputs": [],
   "source": [
    "img = cv2.imread('dot.png')\n",
    "kernel = cv2.getStructuringElement(cv2.MORPH_RECT, (2, 2))\n",
    "blackhat = cv2.morphologyEx(img, cv2.MORPH_BLACKHAT, kernel, iterations=1)\n",
    "cv2.imshow('blackhat', blackhat)\n",
    "cv2.waitKey(0)\n",
    "cv2.destroyAllWindows()"
   ],
   "metadata": {
    "collapsed": false
   }
  },
  {
   "cell_type": "markdown",
   "source": [
    "### Canny边缘检测"
   ],
   "metadata": {
    "collapsed": false
   }
  },
  {
   "cell_type": "code",
   "execution_count": 129,
   "outputs": [
    {
     "name": "stdout",
     "output_type": "stream",
     "text": [
      "阈值越小，细节越丰富\n"
     ]
    }
   ],
   "source": [
    "img = cv2.imread('cat.jpeg')\n",
    "# 大于maxValue，一定是边缘，小于minValue，抛弃。中间的。如果与边缘相连，则作为边界，否则不认为是边缘\n",
    "# 阈值越小，细节越丰富\n",
    "new = cv2.Canny(img,64,128)\n",
    "new2 = cv2.Canny(img,100,228)\n",
    "cv2.imshow('canny', np.hstack((new, new2)))\n",
    "cv2.waitKey(0)\n",
    "cv2.destroyAllWindows()\n",
    "print('阈值越小，细节越丰富')"
   ],
   "metadata": {
    "collapsed": false
   }
  },
  {
   "cell_type": "code",
   "execution_count": null,
   "outputs": [],
   "source": [],
   "metadata": {
    "collapsed": false
   }
  }
 ],
 "metadata": {
  "kernelspec": {
   "display_name": "Python 3",
   "language": "python",
   "name": "python3"
  },
  "language_info": {
   "codemirror_mode": {
    "name": "ipython",
    "version": 2
   },
   "file_extension": ".py",
   "mimetype": "text/x-python",
   "name": "python",
   "nbconvert_exporter": "python",
   "pygments_lexer": "ipython2",
   "version": "2.7.6"
  }
 },
 "nbformat": 4,
 "nbformat_minor": 0
}
