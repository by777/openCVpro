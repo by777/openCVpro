{
 "cells": [
  {
   "cell_type": "markdown",
   "source": [
    "### 图像轮廓\n",
    "\n",
    "图像轮廓是具有相同颜色或灰度的连续点的曲线.轮廓在形状分析和物体的检测和识别中很有用。\n",
    "轮廓的作用:\n",
    "+ 用于图形分析\n",
    "+ 物体的识别和检测\n",
    "\n",
    "注意点:\n",
    "+ 为了检测的准确性，需要先对图像进行二值化或Canny操作。\n",
    "+ 画轮廓时会修改输入的图像,如果之后想继续使用原始图像，应该将原始图像储存到其他变量中。"
   ],
   "metadata": {
    "collapsed": false
   }
  },
  {
   "cell_type": "markdown",
   "source": [
    "### 查找轮廓\n",
    "+ cv2.findContours(image, mode, method[, contours[, hierarchy[, offset]]])\n",
    "    + mode: 查找轮廓的模式\n",
    "        + RETR_EXTERNAL = 0: 只检测外围轮廓\n",
    "        + RETR_LIST = 1 : 检测的轮廓不建立等级关系，即检测所有轮廓，比较常用\n",
    "        + RETR_CCOMP=2: 每层最多两级，从小到大，从里到外\n",
    "        + RETR_TREE=3: 按照树形存储轮廓，从大到小，从左到右\n",
    "\n",
    "method轮廓近似方法也叫ApproximationMode\n",
    "+ CHAIN_APPROX_NONE: 保存所有轮廓的点（比较偏大）\n",
    "+ CHAIN_APPROX_SIMPLE: 只保存角点，比如四边形的4个角，存储信息少，比较常用\n",
    "\n",
    "返回contours和hierarchy即轮廓和层级"
   ],
   "metadata": {
    "collapsed": false
   }
  },
  {
   "cell_type": "markdown",
   "source": [
    "import cv2\n",
    "import numpy as np\n",
    "import matplotlib.pyplot as plt"
   ],
   "metadata": {
    "collapsed": false
   }
  },
  {
   "cell_type": "markdown",
   "source": [
    "img = cv2.imread('contours.png')\n",
    "gray = cv2.cvtColor(img, cv2.COLOR_BGR2GRAY)\n",
    "# 二值化\n",
    "thresh, binary = cv2.threshold(gray,150,255,cv2.THRESH_BINARY)\n",
    "# 新版本返回两个结果，旧版本返回三个结果\n",
    "contours, hierarchy = cv2.findContours(binary,cv2.RETR_TREE,cv2.CHAIN_APPROX_SIMPLE)\n",
    "print(type(contours), type(hierarchy))\n",
    "print(len(contours), hierarchy.shape) # 11 个轮廓, 11 行层级"
   ],
   "metadata": {
    "collapsed": false
   }
  },
  {
   "cell_type": "markdown",
   "source": [
    "### 绘制轮廓\n",
    "+ cv2.drawContours(binary, contours,contourIdx,color,...)\n",
    "+ contourIdx要绘制的索引编号，-1表示所有的"
   ],
   "metadata": {
    "collapsed": false
   }
  },
  {
   "cell_type": "markdown",
   "source": [
    "img = cv2.imread('contours.png')\n",
    "img_copy = img.copy()\n",
    "cv2.drawContours(img_copy,contours,-1,color=(0,0,255), thickness=2)\n",
    "cv2.imshow('img', img)\n",
    "# 绘制是直接修改原图的\n",
    "cv2.imshow('img_copy', img_copy)\n",
    "cv2.waitKey(0)\n",
    "cv2.destroyAllWindows()"
   ],
   "metadata": {
    "collapsed": false
   }
  },
  {
   "cell_type": "markdown",
   "source": [
    "img = cv2.imread('contours.png')\n",
    "img_copy = img.copy()\n",
    "# 只绘制第0个轮廓\n",
    "cv2.drawContours(img_copy,contours,0,color=(0,0,255), thickness=2)\n",
    "cv2.imshow('img', img)\n",
    "# 绘制是直接修改原图的\n",
    "cv2.imshow('img_copy', img_copy)\n",
    "cv2.waitKey(0)\n",
    "cv2.destroyAllWindows()"
   ],
   "metadata": {
    "collapsed": false
   }
  },
  {
   "cell_type": "markdown",
   "source": [
    "### 轮廓的面积与周长\n",
    "轮廓面积指的是每个轮廓中像素点围成的区域的面积，单位为像素\n",
    "\n",
    "可以通过轮廓的面积区分物体大小识别不同的物体\n",
    "\n",
    "在找到轮廓后，可能会有许多细小的轮廓，可以通过轮廓的面积来过滤\n",
    "\n",
    "+ contourArea(contour)\n",
    "+ arcLength(curve轮廓, closed是否闭合)"
   ],
   "metadata": {
    "collapsed": false
   }
  },
  {
   "cell_type": "markdown",
   "source": [
    "import cv2\n",
    "import numpy as np\n",
    "\n",
    "img = cv2.imread('contours.png')\n",
    "gray = cv2.cvtColor(img, cv2.COLOR_BGR2GRAY)\n",
    "\n",
    "\n",
    "# 二值化\n",
    "thresh, binary = cv2.threshold(gray,150,255,cv2.THRESH_BINARY)\n",
    "\n",
    "# 新版本返回两个结果，旧版本返回三个结果\n",
    "contours, hierarchy = cv2.findContours(binary,cv2.RETR_TREE,cv2.CHAIN_APPROX_SIMPLE)\n",
    "cv2.drawContours(img,contours,0,color=(0,0,255), thickness=12)\n",
    "area = cv2.contourArea(contours[0]) # 计算第一个轮廓的周长\n",
    "perimeter = cv2.arcLength(contours[0], closed=True)\n",
    "print('第1个轮廓的面积为 %s, 周长为%s' % (area,perimeter))\n",
    "cv2.imshow('img', img)\n",
    "cv2.waitKey(0)\n",
    "cv2.destroyAllWindows()"
   ],
   "metadata": {
    "collapsed": false
   }
  },
  {
   "cell_type": "markdown",
   "source": [
    "### 多边形逼近与凸包\n",
    "\n",
    "findContours找到的轮廓信息contours可能过于复杂不平滑，可以使用approxPolyDP函数对该多边形曲线做适当近似，这就是轮廓的多边形近似\n",
    "\n",
    "approxPolyDP的DP是Douglas-Peucker算法\n",
    "\n",
    "DP算法思想就是不断找多边形最远的点 加入形成新多边形，直到最远距离小于指定的精度\n",
    "\n",
    "+ approxPolyDP(curve要近似逼近的轮廓,epsilon要使用的阈值，closed轮廓是否闭合 )\n",
    "\n"
   ],
   "metadata": {
    "collapsed": false
   }
  },
  {
   "cell_type": "markdown",
   "source": [
    "img = cv2.imread('contours2.png')\n",
    "img_copy = img.copy()\n",
    "gray = cv2.cvtColor(img, cv2.COLOR_BGR2GRAY)\n",
    "ret, binary = cv2.threshold(gray, 150, 255, cv2.THRESH_BINARY)\n",
    "\n",
    "contours, hierarchy = cv2.findContours(binary,cv2.RETR_TREE, cv2.CHAIN_APPROX_SIMPLE)\n",
    "cv2.drawContours(img_copy,contours,-1,(0,0,255),3)\n",
    "\n",
    "approx = cv2.approxPolyDP(contours[0], 50,True)\n",
    "\n",
    "# 蓝色是近似的轮廓，阈值越大越粗糙\n",
    "cv2.drawContours(img_copy,[approx],-1,(255,0,0),3)\n",
    "\n",
    "cv2.imshow('img ', img)\n",
    "cv2.imshow('img_copy ', img_copy)\n",
    "\n",
    "cv2.waitKey(0)\n",
    "cv2.destroyAllWindows()"
   ],
   "metadata": {
    "collapsed": false
   }
  },
  {
   "cell_type": "markdown",
   "source": [
    "### 凸包\n",
    "逼近多边形是轮廓的高度近似，但是有时候，我们希望使用一个多边形的凸包来简化它。\n",
    "凸包跟逼近多边形很像，只不过它是物体最外层的凸多边形。凸包指的是完全包含原有轮廓，并且仅由轮廓上的点所构成的多边形。\n",
    "凸包的每一处都是凸的，\n",
    "即在凸包内连接任意两点的直线都在凸包的内部。在凸包内，任意连续三个点的内角小于180°。\n",
    "\n",
    "+ convexHull(points[, hull[, clockwise[, returnPoints]]])\n",
    "    + points即轮廓\n",
    "    + colckwise顺时针绘制\n"
   ],
   "metadata": {
    "collapsed": false
   }
  },
  {
   "cell_type": "markdown",
   "source": [
    "img = cv2.imread('contours2.png')\n",
    "img_copy = img.copy()\n",
    "gray = cv2.cvtColor(img, cv2.COLOR_BGR2GRAY)\n",
    "ret, binary = cv2.threshold(gray, 150, 255, cv2.THRESH_BINARY)\n",
    "\n",
    "contours, hierarchy = cv2.findContours(binary,cv2.RETR_TREE, cv2.CHAIN_APPROX_SIMPLE)\n",
    "cv2.drawContours(img_copy,contours,-1,(0,0,255),3)\n",
    "\n",
    "approx = cv2.convexHull(contours[0], 50,True)\n",
    "\n",
    "# 蓝色是近似的轮廓，阈值越大越粗糙\n",
    "cv2.drawContours(img_copy,[approx],-1,(255,0,0),3)\n",
    "\n",
    "cv2.imshow('img ', img)\n",
    "cv2.imshow('img_copy ', img_copy)\n",
    "\n",
    "cv2.waitKey(0)\n",
    "cv2.destroyAllWindows()\n",
    "print('凸包面积',cv2.contourArea(approx), '轮廓面积', cv2.contourArea(contours[0]))"
   ],
   "metadata": {
    "collapsed": false
   }
  },
  {
   "cell_type": "markdown",
   "source": [
    "### 外接矩形\n",
    "外接矩形分为最小外接矩形和最大外接矩形.\n",
    "下图中红色矩形是最小外接矩形，绿色矩形为最大外接矩形.\n",
    "\n",
    "![外接矩形](外接矩形.png)"
   ],
   "metadata": {
    "collapsed": false
   }
  },
  {
   "cell_type": "markdown",
   "source": [
    "img = cv2.imread('contours1.png')\n",
    "img_copy = img.copy()\n",
    "gray = cv2.cvtColor(img, cv2.COLOR_BGR2GRAY)\n",
    "ret, binary = cv2.threshold(gray, 150, 255, cv2.THRESH_BINARY)\n",
    "\n",
    "contours, hierarchy = cv2.findContours(binary,cv2.RETR_TREE, cv2.CHAIN_APPROX_SIMPLE)\n",
    "\n",
    "# 最小外接矩形\n",
    "# rect是一个旋转的矩形，矩形的起始坐标(x,y)，长宽（w，h），旋转角度\n",
    "rect = cv2.minAreaRect(contours[1])\n",
    "print('最小外接矩形',rect)\n",
    "box = cv2.boxPoints(rect)\n",
    "print('把旋转坐标的4个点计算出来', box) # 是浮点数，坐标要转为整数\n",
    "box = np.round(box) # 四舍五入\n",
    "box = np.int0(box)\n",
    "cv2.drawContours(img_copy, [box], 0, (255, 0, 0))\n",
    "# cv2.drawContours(img_copy,contours,1,(0,0,255),3)\n",
    "\n",
    "\n",
    "cv2.imshow('img ', img)\n",
    "cv2.imshow('img_copy ', img_copy)\n",
    "\n",
    "cv2.waitKey(0)\n",
    "cv2.destroyAllWindows()"
   ],
   "metadata": {
    "collapsed": false
   }
  },
  {
   "cell_type": "markdown",
   "source": [
    "# 最大外接矩形\n",
    "img = cv2.imread('contours1.png')\n",
    "img_copy = img.copy()\n",
    "gray = cv2.cvtColor(img, cv2.COLOR_BGR2GRAY)\n",
    "ret, binary = cv2.threshold(gray, 150, 255, cv2.THRESH_BINARY)\n",
    "\n",
    "contours, hierarchy = cv2.findContours(binary,cv2.RETR_TREE, cv2.CHAIN_APPROX_SIMPLE)\n",
    "\n",
    "# 最大外接矩形，可以直接画\n",
    "\n",
    "x, y, w, h = cv2.boundingRect(contours[1])\n",
    "print('最大外接矩形x,y,w,h',rect)\n",
    "cv2.rectangle(img_copy, (x,y), (x+w, y+h), (0,0,255), 3)\n",
    "\n",
    "\n",
    "cv2.imshow('img_copy ', img_copy)\n",
    "\n",
    "cv2.waitKey(0)\n",
    "cv2.destroyAllWindows()"
   ],
   "metadata": {
    "collapsed": false
   }
  },
  {
   "cell_type": "markdown",
   "source": [
    "### 图像金字塔\n",
    "图像金字塔是图像中多尺度表达的一种，\n",
    "最主要用于图像的分割，\n",
    "是一种以多分辨率来解释图像的有效但概念简单的结构。\n",
    "简单来说,图像金字塔是同一图像不同分辨率的子图集合.\n",
    "\n",
    "图像金字塔最初用于机器视觉和图像压缩，\n",
    "一幅图像的金字塔是一系列以金字塔形状排列的分辨率逐步降低，\n",
    "且来源于同一张原始图的图像集合。\n",
    "其通过梯次向下采样获得，直到达到某个终止条件才停止采样。\n",
    "金字塔的底部是待处理图像的高分辨率表示，而顶部是低分辨率的近似。\n",
    "我们将一层一层的图像比喻成金字塔，层级越高．则图像越小，分辨率越低。\n",
    "\n",
    "\n",
    "\n",
    "### 常见两类图像金字塔\n",
    "\n",
    "+ 高斯金字塔(Gaussian pyramid):用来向下/降采样，主要的图像金字塔\n",
    "+ 拉普拉斯金字塔(Laplacian pyramid):用来从金字塔低层图像重建上层未采样图像，在数字图像处理中也即是预测残差，可以对图像进行最大程度的还原，配合高斯金字塔一起使用。\n",
    "\n",
    "### 高斯金字塔下采样\n",
    "通过高斯平滑和亚采样（subsampling）来获得一系列下采样图像\n",
    "\n",
    "（Gi指图片）\n",
    "![高斯金字塔](高斯金字塔.png)\n",
    "\n",
    "\n",
    "![上采样](上采样.png)"
   ],
   "metadata": {
    "collapsed": false
   }
  },
  {
   "cell_type": "code",
   "execution_count": null,
   "outputs": [],
   "source": [
    "import cv2\n",
    "import numpy as np\n",
    "\n",
    "# 下采样-高斯金字塔\n",
    "img = cv2.imread('cat.jpeg')\n",
    "new = cv2.pyrDown(img)\n",
    "cv2.imshow('img ', img)\n",
    "cv2.imshow('down ', new)\n",
    "cv2.waitKey(0)\n",
    "cv2.destroyAllWindows()"
   ],
   "metadata": {
    "collapsed": false
   }
  },
  {
   "cell_type": "code",
   "execution_count": null,
   "outputs": [],
   "source": [
    "# 上采样-高斯金字塔\n",
    "img = cv2.imread('cat.jpeg')\n",
    "new = cv2.pyrUp(img)\n",
    "cv2.imshow('img ', img)\n",
    "cv2.imshow('up ', new)\n",
    "cv2.waitKey(0)\n",
    "cv2.destroyAllWindows()"
   ],
   "metadata": {
    "collapsed": false
   }
  },
  {
   "cell_type": "markdown",
   "source": [
    "### 拉普拉斯金字塔（用于图片压缩）\n",
    "\n",
    "没有现成的API，只有公式\n",
    "![拉普拉斯金字塔](拉普拉斯金字塔.png)"
   ],
   "metadata": {
    "collapsed": false
   }
  },
  {
   "cell_type": "markdown",
   "source": [
    "先缩小，再放大，得到原图的大小，然后使用原图减去这个值得到残差"
   ],
   "metadata": {
    "collapsed": false
   }
  },
  {
   "cell_type": "code",
   "execution_count": 46,
   "outputs": [],
   "source": [
    "img = cv2.imread('cat.jpeg')\n",
    "down = cv2.pyrDown(img)\n",
    "up = cv2.pyrUp(down)\n",
    "L = cv2.subtract(img, up)\n",
    "cv2.imshow('L and img',np.hstack((L, img)))\n",
    "cv2.waitKey(0)\n",
    "cv2.destroyAllWindows()\n",
    "\n",
    "# 可以继续对L进行L做down-up操作，得到下一层拉普拉斯金字塔"
   ],
   "metadata": {
    "collapsed": false
   }
  },
  {
   "cell_type": "code",
   "execution_count": null,
   "outputs": [],
   "source": [],
   "metadata": {
    "collapsed": false
   }
  }
 ],
 "metadata": {
  "kernelspec": {
   "display_name": "Python 3",
   "language": "python",
   "name": "python3"
  },
  "language_info": {
   "codemirror_mode": {
    "name": "ipython",
    "version": 2
   },
   "file_extension": ".py",
   "mimetype": "text/x-python",
   "name": "python",
   "nbconvert_exporter": "python",
   "pygments_lexer": "ipython2",
   "version": "2.7.6"
  }
 },
 "nbformat": 4,
 "nbformat_minor": 0
}
