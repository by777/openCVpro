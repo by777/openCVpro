{
 "cells": [
  {
   "cell_type": "code",
   "execution_count": 1,
   "metadata": {
    "collapsed": true
   },
   "outputs": [],
   "source": [
    "import cv2\n",
    "import cv2.cv2\n",
    "import numpy as np"
   ]
  },
  {
   "cell_type": "markdown",
   "source": [
    "### 车辆统计项目"
   ],
   "metadata": {
    "collapsed": false
   }
  },
  {
   "cell_type": "code",
   "execution_count": 4,
   "outputs": [],
   "source": [
    "cap = cv2.VideoCapture('video.mp4')\n",
    "while True:\n",
    "    ret, frame = cap.read()\n",
    "    if ret:\n",
    "        cv2.imshow('video', frame)\n",
    "    key = cv2.waitKey(1)\n",
    "    if key == ord('q'):\n",
    "        break\n",
    "\n",
    "cap.release()\n",
    "cv2.destroyAllWindows()"
   ],
   "metadata": {
    "collapsed": false
   }
  },
  {
   "cell_type": "markdown",
   "source": [
    "### 去背景（背景减除法）\n",
    "背景减除(Background Subtraction)是许多基于计算机视觉的任务中的主要预处理步骤。\n",
    "如果我们有完整的静止的背景帧，那么我们可以通过帧差法来计算像素差从而获取到前景对象。\n",
    "但是在大多数情况下，我们可能没有这样的图像，所以我们需要从我们拥有的任何图像中提取背景。\n",
    "当运动物体有阴影时，由于阴影也在移动，情况会变的变得更加复杂。为此引入了背景减除算法，通过这一方法我们能够从视频中分离出运动的物体前景，从而达到目标检测的目的。\n",
    "\n",
    "\n",
    "如果您使用的是python3，请输入：\n",
    "\n",
    "fgbg =cv2.createBackgroundSubtractorMOG2() #For python3\n",
    "\n",
    "fgbg = cv2.bgsegm.createBackgroundSubtractorMOG()\n",
    "\n",
    "+ BackgroundSubtractorMOG\n",
    "+ 这是一个以混合高斯模型为基础的前景/背景分割算法。它是 P.KadewTraKuPong和R.Bowden在2001年提出的。\n",
    "+ 它使用K(K=3或5)个高斯分布混合对背景像素进行建模。使用这些颜色(在整个视频中)存在时间的长短作为混合的权重。背景的颜色一般持续的时间最长，而且更加静止。\n",
    "+ 在编写代码时，我们需要使用函数:cv2.bgsegm.createBackgroundSubtractorMOG()创建一个背景对象。这个函数有些可选参数，比如要进行建模场景的时间长度，高斯混合成分的数量，阈值等。将他们全部设置为默认值。然后在整个视频中我们是需要使用backgroundsubtractor.apply() 就可以得到前景的掩模了.。移动的物体会被标记为白色,背景会被标记为黑色的\n"
   ],
   "metadata": {
    "collapsed": false
   }
  },
  {
   "cell_type": "markdown",
   "source": [
    "### 获取前景掩码"
   ],
   "metadata": {
    "collapsed": false
   }
  },
  {
   "cell_type": "code",
   "execution_count": 4,
   "outputs": [],
   "source": [
    "cap = cv2.VideoCapture(0)\n",
    "#  pip install opencv-contrib-python\n",
    "mog = cv2.createBackgroundSubtractorMOG2() #For python3\n",
    "while True:\n",
    "    ret, frame = cap.read()\n",
    "    if not ret:\n",
    "        break\n",
    "    # 前景的掩膜\n",
    "    fgmask = mog.apply(frame)\n",
    "    cv2.imshow('fgmask', fgmask)\n",
    "    key = cv2.waitKey(1)\n",
    "    if key == ord('q'):\n",
    "        break\n",
    "cap.release()\n",
    "cv2.destroyAllWindows()"
   ],
   "metadata": {
    "collapsed": false
   }
  },
  {
   "cell_type": "markdown",
   "source": [
    "### 形态学识别车辆"
   ],
   "metadata": {
    "collapsed": false
   }
  },
  {
   "cell_type": "code",
   "execution_count": 16,
   "outputs": [],
   "source": [
    "cap = cv2.VideoCapture('video.mp4')\n",
    "#  pip install opencv-contrib-python\n",
    "mog = cv2.createBackgroundSubtractorMOG2() #For python3\n",
    "while True:\n",
    "    ret, frame = cap.read()\n",
    "    if not ret:\n",
    "        break\n",
    "    # 前景的掩膜\n",
    "\n",
    "    # cv2.imshow('fgmask', fgmask)\n",
    "    # 思路：有噪声点，先去除\n",
    "    gray = cv2.cvtColor(frame, cv2.COLOR_BGR2GRAY)\n",
    "    blur = cv2.GaussianBlur(gray,(3,3),5)\n",
    "    fgmask = mog.apply(blur)\n",
    "    kernel = cv2.getStructuringElement(cv2.MORPH_RECT,(5,5))\n",
    "    erode = cv2.erode(fgmask, kernel)\n",
    "    dilate = cv2.dilate(erode, kernel, iterations=2)\n",
    "    # 消除内部的小方块\n",
    "    close = cv2.morphologyEx(dilate, cv2.MORPH_CLOSE, kernel)\n",
    "    cv2.imshow('img', close)\n",
    "\n",
    "    key = cv2.waitKey(1)\n",
    "    if key == ord('q'):\n",
    "        break\n",
    "cap.release()\n",
    "cv2.destroyAllWindows()"
   ],
   "metadata": {
    "collapsed": false
   }
  },
  {
   "cell_type": "markdown",
   "source": [
    "### 判断是否是车辆"
   ],
   "metadata": {
    "collapsed": false
   }
  },
  {
   "cell_type": "code",
   "execution_count": 59,
   "outputs": [],
   "source": [
    "cap = cv2.VideoCapture('video.mp4')\n",
    "#  pip install opencv-contrib-python\n",
    "mog = cv2.createBackgroundSubtractorMOG2() #For python3\n",
    "\n",
    "cars = []\n",
    "car_no = 0\n",
    "\n",
    "while True:\n",
    "    ret, frame = cap.read()\n",
    "    fps = cap.get(cv2.CAP_PROP_FPS)\n",
    "\n",
    "    if not ret:\n",
    "        break\n",
    "    # 前景的掩膜\n",
    "\n",
    "    # cv2.imshow('fgmask', fgmask)\n",
    "    # 思路：有噪声点，先去除\n",
    "    gray = cv2.cvtColor(frame, cv2.COLOR_BGR2GRAY)\n",
    "    blur = cv2.GaussianBlur(gray,(3,3),5)\n",
    "    fgmask = mog.apply(blur)\n",
    "    kernel = cv2.getStructuringElement(cv2.MORPH_RECT,(5,5))\n",
    "    erode = cv2.erode(fgmask, kernel)\n",
    "    dilate = cv2.dilate(erode, kernel, iterations=2)\n",
    "    # 消除内部的小方块\n",
    "    close = cv2.morphologyEx(dilate, cv2.MORPH_CLOSE, kernel)\n",
    "\n",
    "    #### 识别车辆 ####\n",
    "    contours, h = cv2.findContours(close, cv2.RETR_TREE, cv2.CHAIN_APPROX_SIMPLE)\n",
    "    line_high = 600\n",
    "    offset = 25\n",
    "    def center(x, y, w, h):\n",
    "        return int(x + w / 2), int(y + w / 2)\n",
    "    cv2.line(frame, (100, line_high), (1180, line_high), (255,255,0),3)\n",
    "    cv2.line(frame, (100, line_high+offset), (1180, line_high+offset), (0,255,0),1)\n",
    "    cv2.line(frame, (100, line_high-offset), (1180, line_high-offset), (0,255,0),1)\n",
    "    for contour in contours:\n",
    "        # 左上角xy、w，h\n",
    "        x, y, w, h = cv2.boundingRect(contour)\n",
    "        x, y, w, h = int(x), int(y), int(w), int(h)\n",
    "        # 过滤掉小框\n",
    "        min_w = 90\n",
    "        min_h = 80\n",
    "        if w < min_w or h < min_h:\n",
    "            break\n",
    "        cv2.rectangle(frame,(x,y),(x+w,y+h),(0,0,255),2)\n",
    "        # cv2.putText(frame,'yes',(x,y),cv2.FONT_HERSHEY_TRIPLEX, 1, (255,0,0))\n",
    "        x, y = center(x,y,w,h)\n",
    "        cars.append((x,y))\n",
    "        cv2.circle(frame, (x, y), 5, (0,255,255), -1)\n",
    "        # 判断车是否过线（上下两条）\n",
    "        for (x,y) in cars:\n",
    "            if y > (line_high - offset) or y < (line_high + offset):\n",
    "                car_no += 1\n",
    "                cars.remove((x,y))\n",
    "\n",
    "\n",
    "    cv2.putText(frame,str(car_no),(100,100),cv2.FONT_HERSHEY_TRIPLEX, 1, (255,0,0))\n",
    "\n",
    "    cv2.imshow('img', frame)\n",
    "\n",
    "    key = cv2.waitKey(int(1000/fps))\n",
    "    if key == ord('q'):\n",
    "        break\n",
    "\n",
    "cars.clear()\n",
    "cap.release()\n",
    "cv2.destroyAllWindows()"
   ],
   "metadata": {
    "collapsed": false
   }
  },
  {
   "cell_type": "code",
   "execution_count": null,
   "outputs": [],
   "source": [],
   "metadata": {
    "collapsed": false
   }
  }
 ],
 "metadata": {
  "kernelspec": {
   "display_name": "Python 3",
   "language": "python",
   "name": "python3"
  },
  "language_info": {
   "codemirror_mode": {
    "name": "ipython",
    "version": 2
   },
   "file_extension": ".py",
   "mimetype": "text/x-python",
   "name": "python",
   "nbconvert_exporter": "python",
   "pygments_lexer": "ipython2",
   "version": "2.7.6"
  }
 },
 "nbformat": 4,
 "nbformat_minor": 0
}
