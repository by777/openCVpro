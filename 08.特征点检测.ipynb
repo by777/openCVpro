{
 "cells": [
  {
   "cell_type": "markdown",
   "source": [
    "### 特征点检测\n",
    "特征检测是计算机视觉和图像处理中的一个概念。\n",
    "它指的是使用计算机提取图像信息，决定每个图像的点是否属于一个图像特征。\n",
    "\n",
    "特征检测的结果是把图像上的点分为不同的子集，这些子集往往属于孤立的点、连续的曲线或者连续的区域。|\n",
    "\n",
    "特征检测包括边缘检测, 角检测, 区域检测 和 脊检测.\n",
    "\n",
    "特征要满足：\n",
    "1. 特征是唯一的\n",
    "2. 特征是可追踪的\n",
    "3. 特征是能比较的\n",
    "\n",
    "我们发现：\n",
    "1. 平坦部分很难找到它在原图的位置\n",
    "2. 边缘相对好找一点，但是也不能确定\n",
    "3. 角点可以一下找到在原图的位置\n",
    "\n",
    "哪些点是角点呢？\n",
    "+ 灰度梯度对应最大值的元素\n",
    "+ 两条线的交点\n",
    "+ 极值点（一阶导数最大，二阶导数为0）"
   ],
   "metadata": {
    "collapsed": false
   }
  },
  {
   "cell_type": "markdown",
   "source": [
    "#### Harris角点检测\n",
    "[Harris角点检测](https://blog.csdn.net/weixin_34910922/article/details/119045533)\n",
    "\n",
    "人眼对角点的识别通常是在一个局部的小区域或小窗口完成的。\n",
    "如果在各个方向上移动这个特征的小窗口，窗口内区域的灰度发生了较大的变化，那么就认为在窗口内遇到了角点。\n",
    "如果这个特定的窗口在图像各个方向上移动时，窗口内图像的灰度没有发生变化，那么窗口内就不存在角点；\n",
    "如果窗口在某一个方向移动时，窗口内图像的灰度发生了较大的变化，而在另一些方向上没有发生变化，那么，窗口内的图像可能就是一条直线的线段。\n",
    "\n",
    "Harris 角点检测算法分为以下三步：\n",
    "\n",
    "1. 当窗口同时向 x 和 y 两个方向移动时，计算窗口内部的像素值变化量E(u,v)；\n",
    "2. 对于每个窗口，都计算其对应的一个角点响应函数R；\n",
    "3. 然后对该函数进行阈值处理，如果R > threshold，表示该窗口对应一个角点特征。\n",
    "\n",
    "![Harris角点检测](Harris角点检测.png)"
   ],
   "metadata": {
    "collapsed": false
   }
  },
  {
   "cell_type": "code",
   "execution_count": 1,
   "outputs": [],
   "source": [
    "import cv2\n",
    "import numpy as np\n",
    "import matplotlib.pyplot as plt"
   ],
   "metadata": {
    "collapsed": false
   }
  },
  {
   "cell_type": "code",
   "execution_count": 8,
   "outputs": [
    {
     "name": "stdout",
     "output_type": "stream",
     "text": [
      "(889, 907) (889, 907, 3)\n"
     ]
    }
   ],
   "source": [
    "img = cv2.imread('chess.png')\n",
    "gray = cv2.cvtColor(img, cv2.COLOR_BGR2GRAY)\n",
    "\n",
    "# blockSize移动的窗口，小一点可以更容易检测出角点，ksize：Sobel算子求一阶导\n",
    "dst = cv2.cornerHarris(gray, blockSize=2, ksize=3, k=0.04)\n",
    "# 返回的结果是角点响应，每一个像素点都能计算出角点响应\n",
    "print(dst.shape, img.shape)\n",
    "# 设定阈值，判断角点,设置颜色\n",
    "img[dst > 0.05 * dst.max()] = (0,0,255)\n",
    "\n",
    "cv2.imshow('img', img)\n",
    "cv2.waitKey(0)\n",
    "cv2.destroyAllWindows()"
   ],
   "metadata": {
    "collapsed": false
   }
  },
  {
   "cell_type": "markdown",
   "source": [
    "#### SIFT特征\n"
   ],
   "metadata": {
    "collapsed": false
   }
  }
 ],
 "metadata": {
  "kernelspec": {
   "display_name": "Python 3",
   "language": "python",
   "name": "python3"
  },
  "language_info": {
   "codemirror_mode": {
    "name": "ipython",
    "version": 2
   },
   "file_extension": ".py",
   "mimetype": "text/x-python",
   "name": "python",
   "nbconvert_exporter": "python",
   "pygments_lexer": "ipython2",
   "version": "2.7.6"
  }
 },
 "nbformat": 4,
 "nbformat_minor": 0
}
